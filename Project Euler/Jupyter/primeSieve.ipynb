{
 "cells": [
  {
   "cell_type": "markdown",
   "id": "009b549a",
   "metadata": {},
   "source": [
    "## Prime Sieve -- From Sloooooww to Fast"
   ]
  },
  {
   "cell_type": "code",
   "execution_count": 3,
   "id": "7ac984b9",
   "metadata": {},
   "outputs": [
    {
     "name": "stdout",
     "output_type": "stream",
     "text": [
      "43.643616676330566 9592\n"
     ]
    }
   ],
   "source": [
    "import time\n",
    "start = time.time()\n",
    "plist1 = [2,3]\n",
    "for x in range(4, 100000):\n",
    "    prime = True\n",
    "    for d in plist1:\n",
    "        if x % d == 0:\n",
    "            prime = False\n",
    "    if prime:\n",
    "        plist1.append(x)\n",
    "end = time.time()\n",
    "print(end-start, len(plist1))\n"
   ]
  },
  {
   "cell_type": "code",
   "execution_count": 4,
   "id": "ff7af88d",
   "metadata": {},
   "outputs": [
    {
     "name": "stdout",
     "output_type": "stream",
     "text": [
      "4.045479774475098 9592\n"
     ]
    }
   ],
   "source": [
    "import time\n",
    "start = time.time()\n",
    "plist1 = [2,3]\n",
    "for x in range (4, 100000):\n",
    "    prime = True\n",
    "    for d in plist1:\n",
    "        if x % d == 0:\n",
    "            prime = False\n",
    "            break\n",
    "    if prime:\n",
    "        plist1.append(x)\n",
    "end = time.time()\n",
    "print(end-start, len(plist1))"
   ]
  },
  {
   "cell_type": "code",
   "execution_count": 6,
   "id": "a3799b3a",
   "metadata": {},
   "outputs": [
    {
     "name": "stdout",
     "output_type": "stream",
     "text": [
      "0.233184814453125 9592\n"
     ]
    }
   ],
   "source": [
    "import time\n",
    "from math import sqrt\n",
    "start = time.time()\n",
    "plist1 = [2,3]\n",
    "for x in range(4,100000):\n",
    "    prime = True\n",
    "    p = 0\n",
    "    while plist1[p] <= sqrt(x):\n",
    "        if x % plist1[p] == 0:\n",
    "            prime = False\n",
    "            break\n",
    "        p += 1\n",
    "    if prime:\n",
    "        plist1.append(x)\n",
    "end = time.time()\n",
    "print(end-start, len(plist1))"
   ]
  },
  {
   "cell_type": "code",
   "execution_count": null,
   "id": "ded91a63",
   "metadata": {},
   "outputs": [
    {
     "name": "stdout",
     "output_type": "stream",
     "text": [
      "0.18364906311035156 9592\n"
     ]
    }
   ],
   "source": [
    "import time\n",
    "\n",
    "start = time.time()\n",
    "plist1 = [2,3]\n",
    "for x in range(4,100000):\n",
    "    prime = True\n",
    "    p = 0\n",
    "    while plist1[p]*plist1[p] <= x:\n",
    "        if x % plist1[p] == 0:\n",
    "            prime = False\n",
    "            break\n",
    "        p += 1\n",
    "    if prime:\n",
    "        plist1.append(x)\n",
    "end = time.time()\n",
    "print(end-start, len(plist1))"
   ]
  },
  {
   "cell_type": "code",
   "execution_count": 9,
   "id": "fc511e69",
   "metadata": {},
   "outputs": [
    {
     "name": "stdout",
     "output_type": "stream",
     "text": [
      "0.019951820373535156 9592\n"
     ]
    }
   ],
   "source": [
    "import time\n",
    "\n",
    "start = time.time()\n",
    "\n",
    "num = 100000\n",
    "prime = [True for i in range(num+1)]\n",
    "# boolean array\n",
    "prime[0] = False\n",
    "prime[1] = False\n",
    "p = 2\n",
    "\n",
    "while (p * p <= num):\n",
    "    # If prime[p] is not\n",
    "    # changed, then it is a prime\n",
    "    if (prime[p] == True):\n",
    "        # Updating all multiples of p\n",
    "        for i in range(p * p, num+1, p):\n",
    "            prime[i] = False\n",
    "    p += 1\n",
    "\n",
    "end = time.time()\n",
    "cnt = 0\n",
    "\n",
    "for x in range(2,len(prime)):\n",
    "    if prime[x]:\n",
    "        cnt += 1\n",
    "\n",
    "print(end-start, len(plist1))"
   ]
  }
 ],
 "metadata": {
  "kernelspec": {
   "display_name": "base",
   "language": "python",
   "name": "python3"
  },
  "language_info": {
   "codemirror_mode": {
    "name": "ipython",
    "version": 3
   },
   "file_extension": ".py",
   "mimetype": "text/x-python",
   "name": "python",
   "nbconvert_exporter": "python",
   "pygments_lexer": "ipython3",
   "version": "3.12.7"
  }
 },
 "nbformat": 4,
 "nbformat_minor": 5
}
